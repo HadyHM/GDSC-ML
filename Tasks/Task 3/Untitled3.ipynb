{
 "cells": [
  {
   "cell_type": "code",
   "execution_count": 28,
   "id": "25c6f6fe",
   "metadata": {},
   "outputs": [
    {
     "name": "stdout",
     "output_type": "stream",
     "text": [
      "6.5\n",
      "gana 500 45\n"
     ]
    }
   ],
   "source": [
    "class vehicle:\n",
    "    def __init__(self, name, max_speed, mileage):\n",
    "        self.name=name\n",
    "        self.max_speed = max_speed\n",
    "        self.mileage = mileage\n",
    "    def show_capacity(self,capacity=55):\n",
    "        self.capacity = capacity\n",
    "        print(self.capacity)\n",
    "        \n",
    "v = vehicle(\"gana\",500,45)\n",
    "v.show_capacity(6.5)\n",
    "print(v.name,v.max_speed,v.mileage)"
   ]
  },
  {
   "cell_type": "code",
   "execution_count": 52,
   "id": "348aaab2",
   "metadata": {},
   "outputs": [
    {
     "name": "stdout",
     "output_type": "stream",
     "text": [
      "gana 45\n",
      "bus\n"
     ]
    }
   ],
   "source": [
    "class bus(vehicle):\n",
    "    def __init__(self, name, max_speed, mileage,bus_type):\n",
    "        self.name=name\n",
    "        self.max_speed = max_speed\n",
    "        self.mileage = mileage\n",
    "        self.bus_type = bus_type\n",
    "    def show_capacity(self):\n",
    "        print(self.name, self.mileage)\n",
    "      \n",
    "c = bus(\"gana\",500,45,\"bus\") \n",
    "c.show_capacity()\n",
    "print(c.bus_type)"
   ]
  },
  {
   "cell_type": "code",
   "execution_count": 40,
   "id": "e4931c6a",
   "metadata": {},
   "outputs": [
    {
     "name": "stdout",
     "output_type": "stream",
     "text": [
      "gg 566\n",
      "gg 20 good\n"
     ]
    }
   ],
   "source": [
    "class driver:\n",
    "    def __init__(self, name, age, experience):\n",
    "        self.name = name\n",
    "        self.age = age\n",
    "        self.experience = experience\n",
    "    def driver_id(self, id):\n",
    "        self.id = id\n",
    "        print(self.name, self.id)\n",
    "    \n",
    "d = driver(\"gg\", 20, \"good\")\n",
    "d.driver_id(566)\n",
    "print(d.name, d.age, d.experience)"
   ]
  },
  {
   "cell_type": "code",
   "execution_count": 53,
   "id": "634c0802",
   "metadata": {},
   "outputs": [],
   "source": [
    "class bus_driver(bus,vehicle):\n",
    "    def __init__(self, name, max_speed, mileage,bus_type,bus_id):\n",
    "        self.name=name\n",
    "        self.max_speed = max_speed\n",
    "        self.mileage = mileage\n",
    "        self.bus_type = bus_type\n",
    "        self.bus_id = bus_id\n",
    "        \n",
    "bu = bus_driver(\"ga\", 500, 50, \"bus\", 989)\n"
   ]
  },
  {
   "cell_type": "code",
   "execution_count": null,
   "id": "bde38b07",
   "metadata": {},
   "outputs": [],
   "source": []
  }
 ],
 "metadata": {
  "kernelspec": {
   "display_name": "Python 3 (ipykernel)",
   "language": "python",
   "name": "python3"
  },
  "language_info": {
   "codemirror_mode": {
    "name": "ipython",
    "version": 3
   },
   "file_extension": ".py",
   "mimetype": "text/x-python",
   "name": "python",
   "nbconvert_exporter": "python",
   "pygments_lexer": "ipython3",
   "version": "3.9.13"
  }
 },
 "nbformat": 4,
 "nbformat_minor": 5
}
