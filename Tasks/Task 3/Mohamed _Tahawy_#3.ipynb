{
 "cells": [
  {
   "cell_type": "code",
   "execution_count": 12,
   "metadata": {},
   "outputs": [
    {
     "name": "stdout",
     "output_type": "stream",
     "text": [
      "100\n"
     ]
    }
   ],
   "source": [
    "#1 :-\n",
    "class vehicle : \n",
    "     def __init__(self , name , max_speed , mileage ):\n",
    "          self.name=name\n",
    "          self.max_speed =max_speed\n",
    "          self.mileage=mileage          \n",
    "#2 :-\n",
    "     def show_capacity (self , capacity):\n",
    "          print(capacity)\n",
    "v1=vehicle(\"bmw\",180 ,30)\n",
    "v1.show_capacity(100)"
   ]
  },
  {
   "cell_type": "code",
   "execution_count": 5,
   "metadata": {},
   "outputs": [
    {
     "name": "stdout",
     "output_type": "stream",
     "text": [
      " the name is :  mercedesBENZ  and the milage is :  10\n"
     ]
    }
   ],
   "source": [
    "#3 :-\n",
    "class Bus(vehicle):\n",
    "     def __init__(self , name , max_speed , mileage,bus_type ):\n",
    "          self.name=name\n",
    "          self.max_speed =max_speed\n",
    "          self.mileage=mileage   \n",
    "          self.bus_type=bus_type\n",
    "#4 :-\n",
    "     def show_capacity(self) :\n",
    "          print (\" the name is : \",self.name , \" and the milage is : \",self.mileage)\n",
    "b1=Bus(\"mercedesBENZ\",100 ,10 , \"big\")\n",
    "b1.show_capacity()\n"
   ]
  },
  {
   "cell_type": "code",
   "execution_count": 7,
   "metadata": {},
   "outputs": [
    {
     "name": "stdout",
     "output_type": "stream",
     "text": [
      "the driver name is  mohamed the his or her   id is :  200\n"
     ]
    }
   ],
   "source": [
    "#5 :-\n",
    "class driver :\n",
    "     def __init__ (self , name ,age ,experience):\n",
    "          self.name =name\n",
    "          self.age =age \n",
    "          self.experience=experience\n",
    "#6 :- \n",
    "     def driver_id(self,id):\n",
    "          print (\"the driver name is \",self.name ,\"the his or her   id is : \",id)\n",
    "d1=driver(\"mohamed\",20,3)\n",
    "d1.driver_id(200)"
   ]
  },
  {
   "cell_type": "code",
   "execution_count": 11,
   "metadata": {},
   "outputs": [],
   "source": [
    "#7 :- \n",
    "class bus_driver(Bus , vehicle ) :\n",
    "     def __init__(self , name , max_speed , mileage,bus_type, bus_id):\n",
    "          self.bus_id=bus_id\n",
    "          self.name=name\n",
    "          self.max_speed =max_speed\n",
    "          self.mileage=mileage   \n",
    "          self.bus_type=bus_type\n"
   ]
  }
 ],
 "metadata": {
  "kernelspec": {
   "display_name": "Python 3",
   "language": "python",
   "name": "python3"
  },
  "language_info": {
   "codemirror_mode": {
    "name": "ipython",
    "version": 3
   },
   "file_extension": ".py",
   "mimetype": "text/x-python",
   "name": "python",
   "nbconvert_exporter": "python",
   "pygments_lexer": "ipython3",
   "version": "3.10.5"
  },
  "orig_nbformat": 4,
  "vscode": {
   "interpreter": {
    "hash": "aee8b7b246df8f9039afb4144a1f6fd8d2ca17a180786b69acc140d282b71a49"
   }
  }
 },
 "nbformat": 4,
 "nbformat_minor": 2
}
