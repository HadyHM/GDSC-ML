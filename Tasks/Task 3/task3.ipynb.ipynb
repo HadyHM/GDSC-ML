{
 "cells": [
  {
   "cell_type": "code",
   "execution_count": 104,
   "id": "4a8d887f",
   "metadata": {},
   "outputs": [
    {
     "name": "stdout",
     "output_type": "stream",
     "text": [
      "name = tyy\n",
      "max_speed = 99\n",
      "mileage = 3\n",
      "33\n"
     ]
    }
   ],
   "source": [
    "class Vehicle:\n",
    "    def __init__(self, name, max_speed, mileage):\n",
    "        self.name = name\n",
    "        self.max_speed = max_speed\n",
    "        self.mileage = mileage\n",
    "    def fun(self):\n",
    "            print(\"name =\", self.name)\n",
    "            print( \"max_speed =\", self.max_speed)\n",
    "            print(\"mileage =\", self.mileage)\n",
    "    def show_capacity(self, capacity):\n",
    "        self.capacity=capacity\n",
    "        return self.capacity \n",
    "    \n",
    "v=Vehicle(\"tyy\",99,3)\n",
    "v.fun()\n",
    "print(v.show_capacity(33))\n",
    "\n",
    "\n",
    " \n",
    "    \n",
    "       \n",
    "                   "
   ]
  },
  {
   "cell_type": "code",
   "execution_count": 125,
   "id": "44cb57ae",
   "metadata": {},
   "outputs": [],
   "source": [
    "class bus(Vehicle):\n",
    "    def __init__(self, name, max_speed, mileage , bus_type):\n",
    "        super().__init__( name, max_speed, mileage)\n",
    "        self.bus_type=bus_type\n",
    "    def show_capacity(self):\n",
    "        print(self.name,self.mileage)"
   ]
  },
  {
   "cell_type": "code",
   "execution_count": 126,
   "id": "77bb5bc1",
   "metadata": {},
   "outputs": [
    {
     "name": "stdout",
     "output_type": "stream",
     "text": [
      "soad 8\n",
      "big\n"
     ]
    }
   ],
   "source": [
    "s=bus(\"soad\",66,8,\"big\")\n",
    "s.show_capacity()\n",
    "print(s.bus_type)"
   ]
  },
  {
   "cell_type": "code",
   "execution_count": 69,
   "id": "98dd9d15",
   "metadata": {},
   "outputs": [],
   "source": [
    "class driver():\n",
    "    name = \" soad\"\n",
    "    age = 30\n",
    "    experience = \"Very Good\"\n",
    "    def __init__(self, name,age, experience):\n",
    "        self.name = name\n",
    "        self.age = age\n",
    "        self.experience = experience\n",
    "    "
   ]
  },
  {
   "cell_type": "code",
   "execution_count": 96,
   "id": "496a70d5",
   "metadata": {},
   "outputs": [
    {
     "name": "stdout",
     "output_type": "stream",
     "text": [
      "(58987, 'soad')\n"
     ]
    }
   ],
   "source": [
    "def  driver_id( id, name):\n",
    "    return id,name \n",
    "\n",
    "print(driver_id(58987,\"soad\"))\n",
    "    "
   ]
  },
  {
   "cell_type": "code",
   "execution_count": 106,
   "id": "6a591ca4",
   "metadata": {},
   "outputs": [],
   "source": [
    "class  bus_driver(bus):\n",
    "    def __init__(self, name,age, experience):\n",
    "        super(). __init__(self, name, max_speed, mileage , bus_type)\n",
    "        super().__init__(self, name, max_speed, mileage)\n",
    "        slef.bus_id=bus_id\n",
    "    "
   ]
  },
  {
   "cell_type": "code",
   "execution_count": null,
   "id": "bb842fc4",
   "metadata": {},
   "outputs": [],
   "source": []
  }
 ],
 "metadata": {
  "kernelspec": {
   "display_name": "Python 3 (ipykernel)",
   "language": "python",
   "name": "python3"
  },
  "language_info": {
   "codemirror_mode": {
    "name": "ipython",
    "version": 3
   },
   "file_extension": ".py",
   "mimetype": "text/x-python",
   "name": "python",
   "nbconvert_exporter": "python",
   "pygments_lexer": "ipython3",
   "version": "3.9.13"
  }
 },
 "nbformat": 4,
 "nbformat_minor": 5
}
