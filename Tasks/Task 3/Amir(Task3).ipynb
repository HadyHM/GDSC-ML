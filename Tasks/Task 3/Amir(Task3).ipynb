{
 "cells": [
  {
   "cell_type": "code",
   "execution_count": 58,
   "id": "117440db",
   "metadata": {},
   "outputs": [
    {
     "name": "stdout",
     "output_type": "stream",
     "text": [
      "Nissan 300 200\n"
     ]
    }
   ],
   "source": [
    "#Question1\n",
    "class Vehicle:  \n",
    "    def __init__(self):\n",
    "        self.name=\"Nissan\"\n",
    "        self.max_speed = 300\n",
    "        self.mileage = 200\n",
    "\n",
    "v = Vehicle()\n",
    "print(v.name,v.max_speed, v.mileage)"
   ]
  },
  {
   "cell_type": "code",
   "execution_count": 59,
   "id": "2877decf",
   "metadata": {},
   "outputs": [
    {
     "name": "stdout",
     "output_type": "stream",
     "text": [
      "Nissan 300 200\n"
     ]
    }
   ],
   "source": [
    "#Question1\n",
    "class Vehicle:\n",
    "    name=\"Nissan\"\n",
    "    max_speed = 300\n",
    "    mileage = 200 \n",
    "    \n",
    "print(Vehicle.name,Vehicle.max_speed, Vehicle.mileage)"
   ]
  },
  {
   "cell_type": "code",
   "execution_count": 60,
   "id": "0903549b",
   "metadata": {},
   "outputs": [
    {
     "name": "stdout",
     "output_type": "stream",
     "text": [
      "200\n"
     ]
    }
   ],
   "source": [
    "#Question2\n",
    "class Vehicle:\n",
    "    def show_capacity(self,capacity):\n",
    "        self.capacity = capacity\n",
    "        print(self.capacity)\n",
    "v=Vehicle()     \n",
    "v.show_capacity(200)"
   ]
  },
  {
   "cell_type": "code",
   "execution_count": 61,
   "id": "cab9318f",
   "metadata": {},
   "outputs": [
    {
     "name": "stdout",
     "output_type": "stream",
     "text": [
      "Vehicle Name: School bus Speed: 200 Mileage: 20 Max number 30\n"
     ]
    }
   ],
   "source": [
    "#Question3\n",
    "class Vehicle:\n",
    "    def __init__(self, name, max_speed, mileage):\n",
    "        self.name = name\n",
    "        self.max_speed = max_speed\n",
    "        self.mileage = mileage\n",
    "\n",
    "class Bus(Vehicle):\n",
    "    max_number=30\n",
    "b = Bus(\"School bus\", 200, 20)\n",
    "print(\"Vehicle Name:\", b.name, \"Speed:\", b.max_speed, \"Mileage:\", b.mileage, \"Max number\",b.max_number)"
   ]
  },
  {
   "cell_type": "code",
   "execution_count": 62,
   "id": "5978586d",
   "metadata": {},
   "outputs": [
    {
     "name": "stdout",
     "output_type": "stream",
     "text": [
      "Name: Bus school Mileage: 40\n"
     ]
    }
   ],
   "source": [
    "#Question4\n",
    "class Vehicle:\n",
    "    def __init__(self):\n",
    "        self.name = \"Touta\"\n",
    "        self.max_speed = 250\n",
    "        self.mileage = 4\n",
    "    def show_capacity(self):\n",
    "        self.capacity = 4\n",
    "        print(self.capacity)\n",
    "\n",
    "class Bus(Vehicle):\n",
    "    def show_capacity(self,name,mileage):\n",
    "        self.name = name\n",
    "        self.mileage = mileage\n",
    "        print(\"Name:\",self.name,\"Mileage:\",self.mileage)\n",
    "b=Bus()\n",
    "b.show_capacity(\"Bus school\",40)\n"
   ]
  },
  {
   "cell_type": "code",
   "execution_count": 63,
   "id": "374f906d",
   "metadata": {},
   "outputs": [
    {
     "name": "stdout",
     "output_type": "stream",
     "text": [
      "Name: Ahmed Age: 25 Experience: 5\n"
     ]
    }
   ],
   "source": [
    "#Question5\n",
    "class Driver:\n",
    "    def __init__(self):\n",
    "        self.name=\"Ahmed\"\n",
    "        self.age=25\n",
    "        self.experience=5\n",
    "d=Driver()\n",
    "print(\"Name:\",d.name,\"Age:\",d.age,\"Experience:\",d.experience)"
   ]
  },
  {
   "cell_type": "code",
   "execution_count": 64,
   "id": "fcdd6944",
   "metadata": {},
   "outputs": [
    {
     "name": "stdout",
     "output_type": "stream",
     "text": [
      "Name: mohamed Id: 123\n"
     ]
    }
   ],
   "source": [
    "#Question6\n",
    "class Driver:\n",
    "    def __init__(self):\n",
    "        self.name=\"Ahmed\"\n",
    "        self.age=25\n",
    "        self.experience=5\n",
    "    def driver_id(self,name,id):\n",
    "        self.id=id\n",
    "        self.name=name\n",
    "        print(\"Name:\",self.name,\"Id:\",self.id)\n",
    "d=Driver()\n",
    "d.driver_id(\"mohamed\",123)"
   ]
  },
  {
   "cell_type": "code",
   "execution_count": 65,
   "id": "cc0788c3",
   "metadata": {},
   "outputs": [
    {
     "name": "stdout",
     "output_type": "stream",
     "text": [
      "123\n"
     ]
    }
   ],
   "source": [
    "#Question7\n",
    "class Vehicle:  \n",
    "    def __init__(self):\n",
    "        self.name=\"Nissan\"\n",
    "        self.max_speed = 300\n",
    "        self.mileage = 200\n",
    "class Bus(Vehicle):\n",
    "     max_number=30\n",
    "class Bus_driver(Bus,Vehicle):\n",
    "    Bus_id=123\n",
    "print(Bus_driver.Bus_id)"
   ]
  },
  {
   "cell_type": "code",
   "execution_count": null,
   "id": "8e947c96",
   "metadata": {},
   "outputs": [],
   "source": []
  }
 ],
 "metadata": {
  "kernelspec": {
   "display_name": "Python 3 (ipykernel)",
   "language": "python",
   "name": "python3"
  },
  "language_info": {
   "codemirror_mode": {
    "name": "ipython",
    "version": 3
   },
   "file_extension": ".py",
   "mimetype": "text/x-python",
   "name": "python",
   "nbconvert_exporter": "python",
   "pygments_lexer": "ipython3",
   "version": "3.9.13"
  }
 },
 "nbformat": 4,
 "nbformat_minor": 5
}
