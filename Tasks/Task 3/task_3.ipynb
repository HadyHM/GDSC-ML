{
  "nbformat": 4,
  "nbformat_minor": 0,
  "metadata": {
    "colab": {
      "provenance": []
    },
    "kernelspec": {
      "name": "python3",
      "display_name": "Python 3"
    },
    "language_info": {
      "name": "python"
    }
  },
  "cells": [
    {
      "cell_type": "markdown",
      "source": [
        "# 1- Create a vehicle class with attributes name, max_speed, mileage and intialize them\n",
        "# 2- Create a method named show_capacity that takes capacity as a parameter and prints the capacity for the vehicle then create an object and print calling the method.\n"
      ],
      "metadata": {
        "id": "0eNLZNRh0NQ7"
      }
    },
    {
      "cell_type": "code",
      "execution_count": 3,
      "metadata": {
        "colab": {
          "base_uri": "https://localhost:8080/"
        },
        "id": "uilF3o6gYyPX",
        "outputId": "3a30ba86-41e1-4688-a6e0-cae5c5482906"
      },
      "outputs": [
        {
          "output_type": "stream",
          "name": "stdout",
          "text": [
            "Capacity = 5\n"
          ]
        }
      ],
      "source": [
        "class Vehicle():\n",
        "  def __init__ (self, name, max_speed, mileage):                     \n",
        "    self.name = name\n",
        "    self.max_speed = max_speed\n",
        "    self.mileage = mileage\n",
        "\n",
        "  def show_capacity(self,capacity):\n",
        "    print(f\"Capacity = {capacity}\") \n",
        "  \n",
        "car = Vehicle(\"BMW\",260,320)\n",
        "car.show_capacity(5)"
      ]
    },
    {
      "cell_type": "markdown",
      "source": [
        "# 3- Create a Bus class that inherits from vehicle, give it bus_type as an extra attribute and intialize it.\n",
        "# 4- Override method show_capacity and make it return the name and mileage as well then create an object and print calling the method.\n",
        "\n",
        "\n"
      ],
      "metadata": {
        "id": "wCVShPXv0H56"
      }
    },
    {
      "cell_type": "code",
      "source": [
        "class Bus(Vehicle):\n",
        "  def __init__(self,name,max_speed, mileage, bus_type):\n",
        "    super().__init__(name,max_speed,mileage)\n",
        "    self.bus_type = bus_type\n",
        "\n",
        "  def show_capacity(self):\n",
        "    return [self.name,self.mileage]\n",
        "    \n",
        "bus = Bus(\"Mercedes\",180,580,\"minibus\")\n",
        "bus.show_capacity()"
      ],
      "metadata": {
        "colab": {
          "base_uri": "https://localhost:8080/"
        },
        "id": "7f5SbTer2LWz",
        "outputId": "ebd7b654-026d-4286-f7b0-49f6d4c2c2e3"
      },
      "execution_count": 18,
      "outputs": [
        {
          "output_type": "execute_result",
          "data": {
            "text/plain": [
              "['Mercedes', 580]"
            ]
          },
          "metadata": {},
          "execution_count": 18
        }
      ]
    },
    {
      "cell_type": "markdown",
      "source": [],
      "metadata": {
        "id": "hItikKn80fma"
      }
    },
    {
      "cell_type": "markdown",
      "source": [
        "# 5- Create a class called driver with attributes name, age and experience and initialize them.\n"
      ],
      "metadata": {
        "id": "_bMiCBvp0f2q"
      }
    },
    {
      "cell_type": "markdown",
      "source": [
        "# 6- Create a method called driver_id and pass to it id then it will return name and id then create an object and print calling the method.\n"
      ],
      "metadata": {
        "id": "A2yYs90S0f_Z"
      }
    },
    {
      "cell_type": "code",
      "source": [
        "class Driver():\n",
        "  def __init__(self, name, age , experience):\n",
        "    self.name = name\n",
        "    self.age = age\n",
        "    self.experience = experience\n",
        "    \n",
        "  def driver_id(self, id):\n",
        "    self.id = id\n",
        "    return {self.name:self.id}\n",
        "\n",
        "d = Driver(\"ALi\",40,6)\n",
        "d.driver_id(928304)"
      ],
      "metadata": {
        "colab": {
          "base_uri": "https://localhost:8080/"
        },
        "id": "tpFpCLKx04vD",
        "outputId": "cfe39470-e9d1-4429-e785-e045eba416e5"
      },
      "execution_count": 22,
      "outputs": [
        {
          "output_type": "execute_result",
          "data": {
            "text/plain": [
              "{'ALi': 928304}"
            ]
          },
          "metadata": {},
          "execution_count": 22
        }
      ]
    },
    {
      "cell_type": "markdown",
      "source": [
        "# 7- Create a class called bus_driver that inherits from Bus and vehicle and initialize it giving it an extra attribute called bus_id.\n"
      ],
      "metadata": {
        "id": "IcAY2zIF0sHb"
      }
    },
    {
      "cell_type": "code",
      "source": [
        "class bus_driver(Bus, Vehicle):\n",
        "  def __init__(self, name, max_speed, mileage, bus_type, bus_id):\n",
        "    super().__init__(self, name, max_speed, mileage)\n",
        "    super().__init__(self, name, max_speed, bus_type)\n",
        "    self.bus_id = bus_id"
      ],
      "metadata": {
        "id": "YxRe252b8lq6"
      },
      "execution_count": 44,
      "outputs": []
    }
  ]
}