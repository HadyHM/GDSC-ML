{
 "cells": [
  {
   "cell_type": "code",
   "execution_count": 106,
   "id": "6871bd3e",
   "metadata": {
    "scrolled": false
   },
   "outputs": [
    {
     "name": "stdout",
     "output_type": "stream",
     "text": [
      "max_speed vehicle :  120\n",
      "mileage :  12\n",
      "name vehicle\n",
      "Work Bus\n",
      "100\n",
      "10\n",
      "Work\n",
      "The worker\n",
      "30\n",
      "10\n",
      "Driver Name: The worker, Driver ID: EX1122\n",
      "The worker\n"
     ]
    },
    {
     "ename": "AttributeError",
     "evalue": "'BusDriver' object has no attribute 'Age'",
     "output_type": "error",
     "traceback": [
      "\u001b[1;31m---------------------------------------------------------------------------\u001b[0m",
      "\u001b[1;31mAttributeError\u001b[0m                            Traceback (most recent call last)",
      "\u001b[1;32m~\\AppData\\Local\\Temp\\ipykernel_9108\\4074228825.py\u001b[0m in \u001b[0;36m<module>\u001b[1;34m\u001b[0m\n\u001b[0;32m     56\u001b[0m \u001b[0mBus_driver\u001b[0m \u001b[1;33m=\u001b[0m \u001b[0mBusDriver\u001b[0m\u001b[1;33m(\u001b[0m\u001b[1;34m\"The worker\"\u001b[0m\u001b[1;33m,\u001b[0m\u001b[1;36m30\u001b[0m\u001b[1;33m,\u001b[0m \u001b[1;36m10\u001b[0m\u001b[1;33m,\u001b[0m\u001b[1;34m\"Work \"\u001b[0m\u001b[1;33m,\u001b[0m \u001b[1;36m100\u001b[0m\u001b[1;33m,\u001b[0m \u001b[1;36m10\u001b[0m\u001b[1;33m,\u001b[0m\u001b[1;36m345\u001b[0m\u001b[1;33m)\u001b[0m\u001b[1;33m\u001b[0m\u001b[1;33m\u001b[0m\u001b[0m\n\u001b[0;32m     57\u001b[0m \u001b[0mprint\u001b[0m\u001b[1;33m(\u001b[0m\u001b[0mBus_driver\u001b[0m\u001b[1;33m.\u001b[0m\u001b[0mname\u001b[0m\u001b[1;33m)\u001b[0m\u001b[1;33m\u001b[0m\u001b[1;33m\u001b[0m\u001b[0m\n\u001b[1;32m---> 58\u001b[1;33m \u001b[0mprint\u001b[0m\u001b[1;33m(\u001b[0m\u001b[0mBus_driver\u001b[0m\u001b[1;33m.\u001b[0m\u001b[0mAge\u001b[0m\u001b[1;33m)\u001b[0m\u001b[1;33m\u001b[0m\u001b[1;33m\u001b[0m\u001b[0m\n\u001b[0m\u001b[0;32m     59\u001b[0m \u001b[0mprint\u001b[0m\u001b[1;33m(\u001b[0m\u001b[0mBus_driver\u001b[0m\u001b[1;33m.\u001b[0m\u001b[0mexp\u001b[0m\u001b[1;33m)\u001b[0m\u001b[1;33m\u001b[0m\u001b[1;33m\u001b[0m\u001b[0m\n\u001b[0;32m     60\u001b[0m \u001b[0mprint\u001b[0m\u001b[1;33m(\u001b[0m\u001b[0mBus_driver\u001b[0m\u001b[1;33m.\u001b[0m\u001b[0mBus_Id\u001b[0m\u001b[1;33m)\u001b[0m\u001b[1;33m\u001b[0m\u001b[1;33m\u001b[0m\u001b[0m\n",
      "\u001b[1;31mAttributeError\u001b[0m: 'BusDriver' object has no attribute 'Age'"
     ]
    }
   ],
   "source": [
    "class Vehicle:\n",
    "    def __init__(self, name, max_speed, mileage):\n",
    "        self.name = name\n",
    "        self.max_speed = max_speed\n",
    "        self.mileage = mileage\n",
    "\n",
    "    def seating_capacity(self, capacity):\n",
    "        return f\"The seating capacity of a {self.name} is {capacity} passengers\"\n",
    "    \n",
    "    \n",
    "    \n",
    "v = Vehicle(\"vehicle\",120,12)\n",
    "print(\"max_speed vehicle : \",v.max_speed)\n",
    "print(\"mileage : \",v.mileage)  \n",
    "print(\"name\",v.name)\n",
    "v.seating_capacity(10)\n",
    "\n",
    "\n",
    "class Bus(Vehicle):\n",
    "    def __init__(self, name, max_speed, mileage, B_type):\n",
    "        super().__init__(name, max_speed, mileage)\n",
    "        self.B_type = B_type\n",
    "        \n",
    "        \n",
    "vc = Bus(\"Work Bus\", 100, 10, \"Work\")\n",
    "print(vc.name)\n",
    "print(vc.max_speed)\n",
    "print(vc.mileage)\n",
    "print(vc.B_type)\n",
    "vc.seating_capacity(60)  \n",
    "\n",
    "\n",
    "\n",
    "\n",
    "class Driver:\n",
    "    def __init__(self, name, Age, exp):\n",
    "        self.name = name\n",
    "        self.Age = Age\n",
    "        self.exp = exp\n",
    "\n",
    "    def driver_Id(self, Id):\n",
    "        return f\"Driver Name: {self.name}, Driver ID: {Id}\"\n",
    "\n",
    "driver = Driver(\"The worker\",30, 10)\n",
    "print(driver.name)\n",
    "print(driver.Age)\n",
    "print(driver.exp)\n",
    "print(driver.driver_Id(\"EX1122\"))\n",
    "\n",
    "class BusDriver(Vehicle,Driver):\n",
    "    def __init__( self,name, max_speed, mileage, B_type, Age, exp,Bus_Id):\n",
    "        Vehicle. __init__(self, name, max_speed, mileage)\n",
    "        driver. __init__(self, Age, exp)\n",
    "        self.Bus_Id = Bus_Id\n",
    "\n",
    "Bus_driver = BusDriver(\"The worker\",30, 10,\"Work \", 100, 10,345)\n",
    "print(Bus_driver.name)\n",
    "print(Bus_driver.Age)\n",
    "print(Bus_driver.exp)\n",
    "print(Bus_driver.Bus_Id)\n",
    "print(Bus_driver.driver_id(3456))   \n"
   ]
  },
  {
   "cell_type": "code",
   "execution_count": null,
   "id": "b602ed4c",
   "metadata": {},
   "outputs": [],
   "source": []
  }
 ],
 "metadata": {
  "kernelspec": {
   "display_name": "Python 3 (ipykernel)",
   "language": "python",
   "name": "python3"
  },
  "language_info": {
   "codemirror_mode": {
    "name": "ipython",
    "version": 3
   },
   "file_extension": ".py",
   "mimetype": "text/x-python",
   "name": "python",
   "nbconvert_exporter": "python",
   "pygments_lexer": "ipython3",
   "version": "3.9.13"
  }
 },
 "nbformat": 4,
 "nbformat_minor": 5
}
